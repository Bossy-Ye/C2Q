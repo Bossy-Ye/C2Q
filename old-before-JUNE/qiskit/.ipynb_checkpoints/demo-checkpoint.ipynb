{
 "cells": [
  {
   "cell_type": "code",
   "execution_count": 1,
   "id": "345ce996-c779-4259-923c-acadc7a7248d",
   "metadata": {},
   "outputs": [
    {
     "data": {
      "image/png": "[encoded data removed]",
      "text/plain": [
       "<Figure size 621.739x200.667 with 1 Axes>"
      ]
     },
     "execution_count": 1,
     "metadata": {},
     "output_type": "execute_result"
    }
   ],
   "source": [
    "from qiskit import QuantumCircuit\n",
    "from qiskit.quantum_info import SparsePauliOp\n",
    "from qiskit.circuit.library import TwoLocal\n",
    "import numpy as np\n",
    "\n",
    "theta_list = (2 * np.pi * np.random.rand(1, 8)).tolist()\n",
    "observable = SparsePauliOp.from_list([(\"XX\", 1), (\"YY\", -3)])\n",
    "reference_circuit = QuantumCircuit(2)\n",
    "reference_circuit.x(0)\n",
    "\n",
    "variational_form = TwoLocal(\n",
    "    2,\n",
    "    rotation_blocks=[\"rz\", \"ry\"],\n",
    "    entanglement_blocks=\"cx\",\n",
    "    entanglement=\"linear\",\n",
    "    reps=1,\n",
    ")\n",
    "ansatz = reference_circuit.compose(variational_form)\n",
    "\n",
    "ansatz.decompose().draw('mpl')"
   ]
  },
  {
   "cell_type": "code",
   "execution_count": 2,
   "id": "988c3c32-4098-4418-88a0-20a41265bfbc",
   "metadata": {},
   "outputs": [],
   "source": [
    "def cost_func_vqe(params, ansatz, hamiltonian, estimator):\n",
    "    \"\"\"Return estimate of energy from estimator\n",
    "\n",
    "    Parameters:\n",
    "        params (ndarray): Array of ansatz parameters\n",
    "        ansatz (QuantumCircuit): Parameterized ansatz circuit\n",
    "        hamiltonian (SparsePauliOp): Operator representation of Hamiltonian\n",
    "        estimator (Estimator): Estimator primitive instance\n",
    "\n",
    "    Returns:\n",
    "        float: Energy estimate\n",
    "    \"\"\"\n",
    "    pub = (ansatz, hamiltonian, params)\n",
    "    cost = estimator.run([pub]).result()[0].data.evs\n",
    "    return cost"
   ]
  },
  {
   "cell_type": "code",
   "execution_count": 3,
   "id": "dff36506-ea8f-44b3-b859-f1283129e16b",
   "metadata": {},
   "outputs": [],
   "source": [
    "from qiskit.primitives import StatevectorEstimator\n",
    "estimator = StatevectorEstimator()"
   ]
  },
  {
   "cell_type": "code",
   "execution_count": 4,
   "id": "95160d60-08e1-4bf7-93a2-83282e82dd79",
   "metadata": {},
   "outputs": [
    {
     "data": {
      "text/plain": [
       " message: Optimization terminated successfully\n",
       " success: True\n",
       "  status: 0\n",
       "     fun: -3.9999999964484227\n",
       "       x: [ 1.000e+00  1.000e+00 -1.571e+00 -4.564e-05 -1.207e+00\n",
       "           -1.935e+00  4.079e-01 -4.079e-01]\n",
       "     nit: 12\n",
       "     jac: [-8.941e-08  2.980e-08 -7.958e-04  2.545e-04  1.381e-03\n",
       "            1.381e-03  5.431e-04  5.432e-04]\n",
       "    nfev: 112\n",
       "    njev: 12"
      ]
     },
     "execution_count": 4,
     "metadata": {},
     "output_type": "execute_result"
    }
   ],
   "source": [
    "# SciPy minimizer routine\n",
    "from scipy.optimize import minimize\n",
    "\n",
    "x0 = np.ones(8)\n",
    "\n",
    "result = minimize(cost_func_vqe, x0, args=(ansatz, observable, estimator), method=\"SLSQP\")\n",
    "\n",
    "result"
   ]
  },
  {
   "cell_type": "code",
   "execution_count": 13,
   "id": "2dac7c8c-4a31-4eeb-bfe4-3c18f5e0515e",
   "metadata": {},
   "outputs": [
    {
     "data": {
      "text/plain": [
       "  message: Optimization terminated successfully.\n",
       "  success: True\n",
       "   status: 0\n",
       "      fun: -3.9999999999998153\n",
       "        x: [ 1.000e+00  1.000e+00  1.571e+00  2.393e-07  2.009e-01\n",
       "            -2.009e-01  6.342e-01 -6.342e-01]\n",
       "      nit: 14\n",
       "      jac: [ 5.960e-08  5.960e-08  9.835e-07  1.013e-06  1.192e-07\n",
       "             1.192e-07 -8.941e-08 -2.980e-08]\n",
       " hess_inv: [[ 1.000e+00  1.673e-07 ...  1.501e-04  1.182e-04]\n",
       "            [ 1.673e-07  1.000e+00 ...  7.051e-05  5.729e-05]\n",
       "            ...\n",
       "            [ 1.501e-04  7.051e-05 ...  7.241e-01 -2.605e-01]\n",
       "            [ 1.182e-04  5.729e-05 ... -2.605e-01  8.179e-01]]\n",
       "     nfev: 144\n",
       "     njev: 16"
      ]
     },
     "execution_count": 13,
     "metadata": {},
     "output_type": "execute_result"
    }
   ],
   "source": [
    "# SciPy minimizer routine\n",
    "from scipy.optimize import minimize\n",
    "\n",
    "x0 = np.ones(8)\n",
    "\n",
    "result = minimize(cost_func_vqe, x0, args=(ansatz, observable, estimator), method=\"BFGS\")\n",
    "\n",
    "result"
   ]
  },
  {
   "cell_type": "code",
   "execution_count": 14,
   "id": "1a173a89-8720-4b3c-80c9-2ee10ced94f4",
   "metadata": {},
   "outputs": [
    {
     "data": {
      "image/png": "[encoded data removed]",
      "text/plain": [
       "<Figure size 621.739x200.667 with 1 Axes>"
      ]
     },
     "execution_count": 14,
     "metadata": {},
     "output_type": "execute_result"
    }
   ],
   "source": [
    "from qiskit import QuantumCircuit\n",
    "from qiskit.quantum_info import SparsePauliOp\n",
    "from qiskit.circuit.library import TwoLocal\n",
    "import numpy as np\n",
    "\n",
    "theta_list = (2 * np.pi * np.random.rand(1, 8)).tolist()\n",
    "observable = SparsePauliOp.from_list([(\"XX\", 1), (\"YY\", -3)])\n",
    "\n",
    "reference_circuit = QuantumCircuit(2)\n",
    "reference_circuit.x(0)\n",
    "\n",
    "variational_form = TwoLocal(\n",
    "    2,\n",
    "    rotation_blocks=[\"rz\", \"ry\"],\n",
    "    entanglement_blocks=\"cx\",\n",
    "    entanglement=\"linear\",\n",
    "    reps=1,\n",
    ")\n",
    "ansatz = reference_circuit.compose(variational_form)\n",
    "\n",
    "ansatz.decompose().draw('mpl')"
   ]
  },
  {
   "cell_type": "code",
   "execution_count": 15,
   "id": "1b9e3d40-158c-4bc2-b23e-396662ad002f",
   "metadata": {},
   "outputs": [],
   "source": [
    "def cost_func_vqe(parameters, ansatz, hamiltonian, estimator):\n",
    "    \"\"\"Return estimate of energy from estimator\n",
    "\n",
    "    Parameters:\n",
    "        params (ndarray): Array of ansatz parameters\n",
    "        ansatz (QuantumCircuit): Parameterized ansatz circuit\n",
    "        hamiltonian (SparsePauliOp): Operator representation of Hamiltonian\n",
    "        estimator (Estimator): Estimator primitive instance\n",
    "\n",
    "    Returns:\n",
    "        float: Energy estimate\n",
    "    \"\"\"\n",
    "\n",
    "    estimator_job = estimator.run([(ansatz, hamiltonian, [parameters])])\n",
    "    estimator_result = estimator_job.result()[0]\n",
    "\n",
    "    cost = estimator_result.data.evs[0]\n",
    "    return cost"
   ]
  },
  {
   "cell_type": "code",
   "execution_count": 16,
   "id": "f03749a9-77ed-48c7-b932-f7db57a94e7d",
   "metadata": {},
   "outputs": [],
   "source": [
    "from qiskit.primitives import StatevectorEstimator\n",
    "estimator = StatevectorEstimator()"
   ]
  },
  {
   "cell_type": "code",
   "execution_count": 17,
   "id": "a61205da-5198-40c3-9776-ea9adb978846",
   "metadata": {},
   "outputs": [
    {
     "data": {
      "text/plain": [
       " message: Optimization terminated successfully.\n",
       " success: True\n",
       "  status: 1\n",
       "     fun: -3.9999999735691913\n",
       "       x: [ 1.505e+00  1.851e+00  1.571e+00  3.142e+00  1.519e+00\n",
       "           -1.623e+00  1.246e+00  1.895e+00]\n",
       "    nfev: 126\n",
       "   maxcv: 0.0"
      ]
     },
     "execution_count": 17,
     "metadata": {},
     "output_type": "execute_result"
    }
   ],
   "source": [
    "# SciPy minimizer routine\n",
    "from scipy.optimize import minimize\n",
    "\n",
    "x0 = np.ones(8)\n",
    "\n",
    "result = minimize(cost_func_vqe, x0, args=(ansatz, observable, estimator), method=\"COBYLA\")\n",
    "\n",
    "result"
   ]
  },
  {
   "cell_type": "code",
   "execution_count": 5,
   "id": "b0f4ad01-2b8d-4cc5-ac8e-fd2ad66fc94e",
   "metadata": {},
   "outputs": [],
   "source": [
    "from qiskit_ibm_runtime import SamplerV2 as Sampler\n",
    "from qiskit_ibm_runtime import EstimatorV2 as Estimator\n",
    "from qiskit_ibm_runtime import Session, Options\n",
    "from qiskit_ibm_runtime import QiskitRuntimeService\n",
    "\n",
    "\n",
    "service = QiskitRuntimeService(channel='ibm_quantum')\n",
    "backend = service.least_busy(operational=True, simulator=False)"
   ]
  },
  {
   "cell_type": "code",
   "execution_count": 6,
   "id": "bf06d8fc-6ce0-4c31-96df-0dee7df107d7",
   "metadata": {},
   "outputs": [],
   "source": [
    "from qiskit.transpiler.preset_passmanagers import generate_preset_pass_manager\n",
    "\n",
    "pm = generate_preset_pass_manager(backend=backend, optimization_level=3)\n",
    "isa_ansatz = pm.run(ansatz)\n",
    "isa_observable = observable.apply_layout(layout = isa_ansatz.layout)"
   ]
  },
  {
   "cell_type": "code",
   "execution_count": null,
   "id": "26a56d85-3102-41d0-8de7-1ae59d5944ea",
   "metadata": {},
   "outputs": [
    {
     "name": "stderr",
     "output_type": "stream",
     "text": [
      "/var/folders/ys/tg4mzr093dsgjjl04f5n863c0000gn/T/ipykernel_58248/42857504.py:10: DeprecationWarning: The 'session' keyword arguments are deprecated as of qiskit-ibm-runtime 0.24.0 and will be removed no sooner than 3 months after the release date. Please use the 'mode' parameter instead.\n",
      "  estimator = Estimator(session=session)\n"
     ]
    }
   ],
   "source": [
    "#Estimated required time: <20 min. Benchmarked at 17 min, 40 s on ibm_osaka, on 5-29-24\n",
    "\n",
    "x0 = np.ones(8)\n",
    "\n",
    "with Session(backend=backend) as session:\n",
    "    session_options = Options()\n",
    "    session_options.execution.shots = 4096\n",
    "    session_options.resilience_level = 1\n",
    "\n",
    "    estimator = Estimator(mode=session)\n",
    "    sampler = Sampler(mode = session)\n",
    "    estimator.options.default_shots = 10_000\n",
    "    \n",
    "    result = minimize(cost_func_vqe, x0, args=(isa_ansatz, isa_observable, estimator), method=\"COBYLA\")\n",
    "\n",
    "session.close()\n",
    "print(result)"
   ]
  },
  {
   "cell_type": "code",
   "execution_count": 1,
   "id": "1c0c6876-869e-4cca-abe7-1fb7c7c5ce1c",
   "metadata": {},
   "outputs": [],
   "source": [
    "from qiskit.quantum_info import SparsePauliOp\n",
    "\n",
    "observable_1 = SparsePauliOp.from_list([(\"II\", 2), (\"XX\", -2), (\"YY\", 3), (\"ZZ\", -3)])"
   ]
  },
  {
   "cell_type": "code",
   "execution_count": 2,
   "id": "c97b3cd5-dc79-446f-b7ba-955071ee940c",
   "metadata": {},
   "outputs": [],
   "source": [
    "def cost_func_vqe(params, ansatz, hamiltonian, estimator):\n",
    "    \"\"\"Return estimate of energy from estimator\n",
    "\n",
    "    Parameters:\n",
    "        params (ndarray): Array of ansatz parameters\n",
    "        ansatz (QuantumCircuit): Parameterized ansatz circuit\n",
    "        hamiltonian (SparsePauliOp): Operator representation of Hamiltonian\n",
    "        estimator (Estimator): Estimator primitive instance\n",
    "\n",
    "    Returns:\n",
    "        float: Energy estimate\n",
    "    \"\"\"\n",
    "    pub = (ansatz, hamiltonian, params)\n",
    "    cost = estimator.run([pub]).result()[0].data.evs\n",
    "\n",
    "    return cost"
   ]
  },
  {
   "cell_type": "code",
   "execution_count": 6,
   "id": "be30011e-57ff-4a94-a51b-f3e279129db9",
   "metadata": {},
   "outputs": [],
   "source": [
    "from qiskit.circuit.library import TwoLocal\n",
    "from qiskit import QuantumCircuit\n",
    "\n",
    "import numpy as np\n",
    "\n",
    "reference_circuit = QuantumCircuit(2)\n",
    "reference_circuit.x(0)\n",
    "\n",
    "variational_form = TwoLocal(\n",
    "    2,\n",
    "    rotation_blocks=[\"rz\", \"ry\"],\n",
    "    entanglement_blocks=\"cx\",\n",
    "    entanglement=\"linear\",\n",
    "    reps=1,\n",
    ")\n",
    "raw_ansatz = reference_circuit.compose(variational_form)\n",
    "\n",
    "raw_ansatz.decompose().draw('mpl')"
   ]
  },
  {
   "cell_type": "code",
   "execution_count": 7,
   "id": "d8558510-4061-47db-9dc3-26fc84d00972",
   "metadata": {},
   "outputs": [],
   "source": [
    "from qiskit.primitives import StatevectorEstimator as Estimator\n",
    "from qiskit.primitives import StatevectorSampler as Sampler\n",
    "estimator = Estimator()\n",
    "sampler = Sampler()"
   ]
  },
  {
   "cell_type": "code",
   "execution_count": 8,
   "id": "15630de4-e288-47b8-b68c-14fd7628a583",
   "metadata": {},
   "outputs": [
    {
     "name": "stdout",
     "output_type": "stream",
     "text": [
      "[1. 1. 1. 1. 1. 1. 1. 1.]\n"
     ]
    }
   ],
   "source": [
    "import numpy as np\n",
    "\n",
    "x0 = np.ones(raw_ansatz.num_parameters)\n",
    "print(x0)"
   ]
  },
  {
   "cell_type": "code",
   "execution_count": 11,
   "id": "df8ff791-915f-4d2c-b57a-5573927eb650",
   "metadata": {},
   "outputs": [
    {
     "name": "stdout",
     "output_type": "stream",
     "text": [
      "0.13604402542114258\n",
      "   Normal return from subroutine COBYLA\n",
      "\n",
      "   NFVALS =  123   F =-6.000000E+00    MAXCV = 0.000000E+00\n",
      "   X = 1.281322E+00   9.423508E-01   1.570825E+00   3.631211E-05   1.917020E+00\n",
      "       1.224584E+00   6.217758E-01   6.217610E-01\n",
      "\n"
     ]
    }
   ],
   "source": [
    "# SciPy minimizer routine\n",
    "from scipy.optimize import minimize\n",
    "import time\n",
    "\n",
    "start_time = time.time()\n",
    "\n",
    "result = minimize(cost_func_vqe, x0, args=(raw_ansatz, observable_1, estimator), method=\"COBYLA\", options={'maxiter': 1000, 'disp': True})\n",
    "\n",
    "end_time = time.time()\n",
    "execution_time = end_time - start_time\n",
    "print(execution_time)"
   ]
  },
  {
   "cell_type": "code",
   "execution_count": 13,
   "id": "f928b80b-0dd2-4a6f-8fe7-64622e3bfb5c",
   "metadata": {},
   "outputs": [
    {
     "name": "stdout",
     "output_type": "stream",
     "text": [
      "Number of iterations: 123\n",
      "Time (s): 0.13604402542114258\n",
      "Percent error: 1.11e-09\n"
     ]
    }
   ],
   "source": [
    "from numpy.linalg import eigvalsh\n",
    "\n",
    "solution_eigenvalue = min(eigvalsh(observable_1.to_matrix()))\n",
    "\n",
    "print(f\"\"\"Number of iterations: {result.nfev}\"\"\")\n",
    "print(f\"\"\"Time (s): {execution_time}\"\"\")\n",
    "\n",
    "print(\n",
    "    f\"Percent error: {abs((result.fun - solution_eigenvalue)/solution_eigenvalue):.2e}\"\n",
    ")"
   ]
  },
  {
   "cell_type": "code",
   "execution_count": 14,
   "id": "b1dcf3f9-5759-4a6d-bf6d-7690e2cd0395",
   "metadata": {},
   "outputs": [
    {
     "data": {
      "text/plain": [
       " message: Optimization terminated successfully.\n",
       " success: True\n",
       "  status: 1\n",
       "     fun: -5.999999993368837\n",
       "       x: [ 1.281e+00  9.424e-01  1.571e+00  3.631e-05  1.917e+00\n",
       "            1.225e+00  6.218e-01  6.218e-01]\n",
       "    nfev: 123\n",
       "   maxcv: 0.0"
      ]
     },
     "execution_count": 14,
     "metadata": {},
     "output_type": "execute_result"
    }
   ],
   "source": [
    "result"
   ]
  },
  {
   "cell_type": "code",
   "execution_count": 15,
   "id": "9e75eb34-ae8d-4b0c-94f8-e6dc722ba9a8",
   "metadata": {},
   "outputs": [
    {
     "data": {
      "image/png": "[encoded data removed]",
      "text/plain": [
       "<Figure size 287.294x200.667 with 1 Axes>"
      ]
     },
     "execution_count": 15,
     "metadata": {},
     "output_type": "execute_result"
    }
   ],
   "source": [
    "from qiskit import QuantumCircuit\n",
    "\n",
    "ideal_qc = QuantumCircuit(2)\n",
    "ideal_qc.h(0)\n",
    "ideal_qc.cx(0, 1)\n",
    "\n",
    "ideal_qc.draw(\"mpl\")"
   ]
  },
  {
   "cell_type": "code",
   "execution_count": 16,
   "id": "0a340fa0-bf44-4ebc-b4b7-563f59d5bfb1",
   "metadata": {},
   "outputs": [
    {
     "data": {
      "image/png": "[encoded data removed]",
      "text/plain": [
       "<Figure size 800x500 with 2 Axes>"
      ]
     },
     "metadata": {},
     "output_type": "display_data"
    }
   ],
   "source": [
    "from qiskit.quantum_info import Statevector\n",
    "\n",
    "Statevector(ideal_qc)"
   ]
  },
  {
   "cell_type": "code",
   "execution_count": 17,
   "id": "26fe72e4-1904-4195-9c84-ece7d86f24bc",
   "metadata": {},
   "outputs": [
    {
     "data": {
      "image/png": "[encoded data removed]",
      "text/plain": [
       "<Figure size 788.961x200.667 with 1 Axes>"
      ]
     },
     "execution_count": 17,
     "metadata": {},
     "output_type": "execute_result"
    }
   ],
   "source": [
    "reference = QuantumCircuit(2)\n",
    "reference.h(0)\n",
    "# Include barrier to separate reference from variational form\n",
    "reference.barrier()\n",
    "\n",
    "ref_ansatz = raw_ansatz.decompose().compose(reference, front=True)\n",
    "\n",
    "ref_ansatz.draw(\"mpl\")"
   ]
  },
  {
   "cell_type": "code",
   "execution_count": 18,
   "id": "3e8040c9-8636-4d5a-b76b-f94531138f9d",
   "metadata": {},
   "outputs": [],
   "source": [
    "import time\n",
    "\n",
    "start_time = time.time()\n",
    "\n",
    "ref_result = minimize(cost_func_vqe, x0, args=(ref_ansatz, observable_1, estimator), method=\"COBYLA\")\n",
    "\n",
    "end_time = time.time()\n",
    "execution_time = end_time - start_time"
   ]
  },
  {
   "cell_type": "code",
   "execution_count": 19,
   "id": "37e1cffe-369b-442a-9cde-5a5eca4a3f36",
   "metadata": {},
   "outputs": [
    {
     "name": "stdout",
     "output_type": "stream",
     "text": [
      "-5.999999993368837\n"
     ]
    }
   ],
   "source": [
    "experimental_min_eigenvalue_ref = cost_func_vqe(result.x, raw_ansatz, observable_1, estimator)\n",
    "print(experimental_min_eigenvalue_ref)"
   ]
  },
  {
   "cell_type": "code",
   "execution_count": 20,
   "id": "8fba7271-94f3-4373-9098-6dc0d53bce66",
   "metadata": {},
   "outputs": [
    {
     "name": "stdout",
     "output_type": "stream",
     "text": [
      "ADDED REFERENCE STATE:\n",
      "Number of iterations: 123\n",
      "Time (s): 0.12580013275146484\n",
      "Percent error: 1.11e-09\n"
     ]
    }
   ],
   "source": [
    "print(\"ADDED REFERENCE STATE:\")\n",
    "print(f\"\"\"Number of iterations: {result.nfev}\"\"\")\n",
    "print(f\"\"\"Time (s): {execution_time}\"\"\")\n",
    "print(\n",
    "    f\"Percent error: {abs((experimental_min_eigenvalue_ref - solution_eigenvalue)/solution_eigenvalue):.2e}\"\n",
    ")"
   ]
  },
  {
   "cell_type": "code",
   "execution_count": 21,
   "id": "2662dec0-400f-4806-853b-c977d9f5904c",
   "metadata": {},
   "outputs": [],
   "source": [
    "import time\n",
    "\n",
    "start_time = time.time()\n",
    "\n",
    "x0 = [0, 0, 0, 0, 6, 0, 0, 0]\n",
    "\n",
    "x0_1_result = minimize(cost_func_vqe, x0, args=(raw_ansatz, observable_1, estimator), method=\"COBYLA\")\n",
    "\n",
    "end_time = time.time()\n",
    "execution_time = end_time - start_time"
   ]
  },
  {
   "cell_type": "code",
   "execution_count": 22,
   "id": "844ee10d-83cf-4746-b7b3-0dd830021e96",
   "metadata": {},
   "outputs": [
    {
     "name": "stdout",
     "output_type": "stream",
     "text": [
      "INITIAL POINT 1:\n",
      "Number of iterations: 129\n",
      "Time (s): 0.14233994483947754\n"
     ]
    }
   ],
   "source": [
    "print(\"INITIAL POINT 1:\")\n",
    "print(f\"\"\"Number of iterations: {x0_1_result.nfev}\"\"\")\n",
    "print(f\"\"\"Time (s): {execution_time}\"\"\")"
   ]
  },
  {
   "cell_type": "code",
   "execution_count": 23,
   "id": "a8f11803-30a4-40d7-aff2-c565523a2fb8",
   "metadata": {},
   "outputs": [],
   "source": [
    "import time\n",
    "\n",
    "start_time = time.time()\n",
    "\n",
    "x0 = 6 * np.ones(raw_ansatz.num_parameters)\n",
    "\n",
    "x0_2_result = minimize(cost_func_vqe, x0, args=(raw_ansatz, observable_1, estimator), method=\"COBYLA\")\n",
    "\n",
    "end_time = time.time()\n",
    "execution_time = end_time - start_time"
   ]
  },
  {
   "cell_type": "code",
   "execution_count": 24,
   "id": "4265297e-bcdd-480a-9543-f911b00b7e0a",
   "metadata": {},
   "outputs": [
    {
     "name": "stdout",
     "output_type": "stream",
     "text": [
      "INITIAL POINT 2:\n",
      "Number of iterations: 122\n",
      "Time (s): 0.13177704811096191\n"
     ]
    }
   ],
   "source": [
    "print(\"INITIAL POINT 2:\")\n",
    "print(f\"\"\"Number of iterations: {x0_2_result.nfev}\"\"\")\n",
    "print(f\"\"\"Time (s): {execution_time}\"\"\")"
   ]
  },
  {
   "cell_type": "code",
   "execution_count": 25,
   "id": "2bff7245-2d70-4e94-b807-99c4c8b0d149",
   "metadata": {},
   "outputs": [
    {
     "data": {
      "image/png": "[encoded data removed]",
      "text/plain": [
       "<Figure size 538.128x200.667 with 1 Axes>"
      ]
     },
     "execution_count": 25,
     "metadata": {},
     "output_type": "execute_result"
    }
   ],
   "source": [
    "from qiskit.circuit.library import TwoLocal\n",
    "\n",
    "ansatz = TwoLocal(2, rotation_blocks=[\"ry\", \"rz\"], entanglement_blocks=\"cz\", reps=1)\n",
    "\n",
    "ansatz.decompose().draw('mpl')"
   ]
  },
  {
   "cell_type": "code",
   "execution_count": 26,
   "id": "06bcc1d7-3ca1-4741-960c-9ee54cc51c07",
   "metadata": {},
   "outputs": [],
   "source": [
    "from qiskit.quantum_info import SparsePauliOp\n",
    "\n",
    "observable_2 = SparsePauliOp.from_list([(\"II\", 2), (\"XX\", -3), (\"YY\", 2), (\"ZZ\", -4)])"
   ]
  },
  {
   "cell_type": "code",
   "execution_count": 27,
   "id": "ec537e27-94dc-4288-935c-9988d1e8a8dc",
   "metadata": {},
   "outputs": [],
   "source": [
    "import numpy as np\n",
    "from qiskit.transpiler.preset_passmanagers import generate_preset_pass_manager\n",
    "\n",
    "def calculate_overlaps(ansatz, prev_circuits, parameters, sampler, realbackend,backend):\n",
    "\n",
    "    def create_fidelity_circuit(circuit_1, circuit_2):\n",
    "        if len(circuit_1.clbits) > 0:\n",
    "            circuit_1.remove_final_measurements()\n",
    "        if len(circuit_2.clbits) > 0:\n",
    "            circuit_2.remove_final_measurements()\n",
    "\n",
    "        circuit = circuit_1.compose(circuit_2.inverse())\n",
    "        circuit.measure_all()\n",
    "        return circuit\n",
    "    overlaps = []\n",
    "\n",
    "    for prev_circuit in prev_circuits:\n",
    "        fidelity_circuit = create_fidelity_circuit(ansatz, prev_circuit)\n",
    "        if realbackend == 1:\n",
    "            pm = generate_preset_pass_manager(backend=backend, optimization_level=3)\n",
    "            fidelity_circuit = pm.run(fidelity_circuit)\n",
    "        sampler_job = sampler.run([(fidelity_circuit, parameters)])\n",
    "        meas_data = sampler_job.result()[0].data.meas\n",
    "        \n",
    "        counts_0 = meas_data.get_int_counts().get(0, 0)\n",
    "        shots = meas_data.num_shots\n",
    "        overlap = counts_0/shots\n",
    "        overlaps.append(overlap)\n",
    "    \n",
    "    return np.array(overlaps)"
   ]
  },
  {
   "cell_type": "code",
   "execution_count": 28,
   "id": "9b2c93d5-5c1d-44b3-a749-93e329e18296",
   "metadata": {},
   "outputs": [],
   "source": [
    "def cost_func_vqd(parameters, ansatz, prev_states, step, betas, estimator, sampler, hamiltonian, realbackend, backend):\n",
    "\n",
    "    estimator_job = estimator.run([(ansatz, hamiltonian, [parameters])])\n",
    "\n",
    "    total_cost = 0\n",
    "\n",
    "    if step > 1:\n",
    "        overlaps = calculate_overlaps(ansatz, prev_states, parameters, sampler, realbackend, backend)\n",
    "        total_cost = np.sum([np.real(betas[state] * overlap) for state, overlap in enumerate(overlaps)])\n",
    "\n",
    "    estimator_result = estimator_job.result()[0]\n",
    "\n",
    "    value = estimator_result.data.evs[0] + total_cost\n",
    "\n",
    "    return value"
   ]
  },
  {
   "cell_type": "code",
   "execution_count": 29,
   "id": "4321f60f-7893-4f73-88df-b3c703a6e1be",
   "metadata": {},
   "outputs": [],
   "source": [
    "from qiskit.primitives import StatevectorSampler\n",
    "from qiskit.primitives import StatevectorEstimator\n",
    "\n",
    "sampler = StatevectorSampler(default_shots=4092)\n",
    "estimator = StatevectorEstimator()"
   ]
  },
  {
   "cell_type": "code",
   "execution_count": 30,
   "id": "2abdbc48-42b0-4a7e-a646-3031c6161738",
   "metadata": {},
   "outputs": [],
   "source": [
    "from qiskit.quantum_info import SparsePauliOp\n",
    "import numpy as np\n",
    "\n",
    "k = 4\n",
    "betas = [50, 60, 40]\n",
    "x0 = np.ones(8)"
   ]
  },
  {
   "cell_type": "code",
   "execution_count": 31,
   "id": "a214d03d-6aa7-4fdd-85fb-f577a93cca18",
   "metadata": {},
   "outputs": [
    {
     "name": "stdout",
     "output_type": "stream",
     "text": [
      " message: Optimization terminated successfully.\n",
      " success: True\n",
      "  status: 1\n",
      "     fun: -6.999999999993339\n",
      "       x: [ 1.571e+00  1.571e+00  1.993e+00  2.164e+00  1.020e+00\n",
      "            1.215e+00  1.693e+00  2.789e+00]\n",
      "    nfev: 192\n",
      "   maxcv: 0.0\n",
      " message: Optimization terminated successfully.\n",
      " success: True\n",
      "  status: 1\n",
      "     fun: 3.7185088387468737\n",
      "       x: [ 1.014e+00  9.919e-01  1.288e+00  1.149e+00  1.267e+00\n",
      "            1.064e+00  9.810e-01  9.702e-01]\n",
      "    nfev: 108\n",
      "   maxcv: 0.0\n",
      " message: Optimization terminated successfully.\n",
      " success: True\n",
      "  status: 1\n",
      "     fun: 4.589919041339635\n",
      "       x: [ 2.052e+00  3.901e+00  1.999e+00  3.960e-01  1.434e+00\n",
      "            2.422e+00  1.123e+00  1.338e+00]\n",
      "    nfev: 138\n",
      "   maxcv: 0.0\n",
      " message: Optimization terminated successfully.\n",
      " success: True\n",
      "  status: 1\n",
      "     fun: 8.42185946002\n",
      "       x: [ 1.599e+00  1.114e+00  3.094e+00 -6.448e-01  1.686e+00\n",
      "            3.078e+00  2.009e+00  1.048e+00]\n",
      "    nfev: 127\n",
      "   maxcv: 0.0\n"
     ]
    }
   ],
   "source": [
    "from scipy.optimize import minimize\n",
    "\n",
    "prev_states = []\n",
    "prev_opt_parameters = []\n",
    "eigenvalues = []\n",
    "\n",
    "realbackend = 0\n",
    "\n",
    "for step in range(1, k + 1):\n",
    "    \n",
    "    if step > 1:\n",
    "        prev_states.append(ansatz.assign_parameters(prev_opt_parameters))\n",
    "    \n",
    "    result = minimize(cost_func_vqd, x0, args=(ansatz, prev_states, step, betas, estimator, sampler, observable_2, realbackend, None), method=\"COBYLA\", options={'maxiter': 200, 'tol':0.000001})\n",
    "    print(result)\n",
    "\n",
    "    prev_opt_parameters = result.x\n",
    "    eigenvalues.append(result.fun)"
   ]
  },
  {
   "cell_type": "code",
   "execution_count": 32,
   "id": "7dab4b4f-67ba-4c14-9793-8f7fe3777d02",
   "metadata": {},
   "outputs": [
    {
     "data": {
      "text/plain": [
       "[-6.999999999993339, 3.7185088387468737, 4.589919041339635, 8.42185946002]"
      ]
     },
     "execution_count": 32,
     "metadata": {},
     "output_type": "execute_result"
    }
   ],
   "source": [
    "eigenvalues"
   ]
  },
  {
   "cell_type": "code",
   "execution_count": 33,
   "id": "7ea8a673-0b10-40a0-a595-0865196c0518",
   "metadata": {},
   "outputs": [
    {
     "name": "stdout",
     "output_type": "stream",
     "text": [
      "Percent error: 9.52e-13\n",
      "Percent error: 2.40e-01\n",
      "Percent error: 8.20e-02\n",
      "Percent error: 2.03e-01\n"
     ]
    }
   ],
   "source": [
    "solution_eigenvalues = [-7, 3, 5, 7]\n",
    "\n",
    "for index, experimental_eigenvalue in enumerate(eigenvalues):\n",
    "    solution_eigenvalue = solution_eigenvalues[index]\n",
    "    \n",
    "    print(\n",
    "        f\"Percent error: {abs((experimental_eigenvalue - solution_eigenvalue)/solution_eigenvalue):.2e}\"\n",
    "    )"
   ]
  },
  {
   "cell_type": "code",
   "execution_count": null,
   "id": "2c494108-8e80-4c24-baa6-1d9570f8c8c8",
   "metadata": {},
   "outputs": [],
   "source": []
  },
  {
   "cell_type": "code",
   "execution_count": null,
   "id": "99828943-f5e3-4cfc-b482-f4f381926f8e",
   "metadata": {},
   "outputs": [],
   "source": []
  },
  {
   "cell_type": "code",
   "execution_count": null,
   "id": "fbe373f4-5133-419d-8b21-0769d9631b33",
   "metadata": {},
   "outputs": [],
   "source": []
  }
 ],
 "metadata": {
  "kernelspec": {
   "display_name": "Python 3 (ipykernel)",
   "language": "python",
   "name": "python3"
  },
  "language_info": {
   "codemirror_mode": {
    "name": "ipython",
    "version": 3
   },
   "file_extension": ".py",
   "mimetype": "text/x-python",
   "name": "python",
   "nbconvert_exporter": "python",
   "pygments_lexer": "ipython3",
   "version": "3.12.4"
  }
 },
 "nbformat": 4,
 "nbformat_minor": 5
}
