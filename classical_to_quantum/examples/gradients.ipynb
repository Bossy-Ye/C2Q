{
 "cells": [
  {
   "cell_type": "code",
   "id": "initial_id",
   "metadata": {
    "collapsed": true,
    "ExecuteTime": {
     "end_time": "2024-08-20T09:23:15.035042Z",
     "start_time": "2024-08-20T09:23:14.287014Z"
    }
   },
   "source": [
    "from qiskit.circuit import QuantumCircuit, QuantumRegister, Parameter\n",
    "from qiskit.quantum_info import SparsePauliOp\n",
    "import numpy as np"
   ],
   "outputs": [],
   "execution_count": 1
  },
  {
   "metadata": {
    "ExecuteTime": {
     "end_time": "2024-08-20T12:18:00.200440Z",
     "start_time": "2024-08-20T12:18:00.151640Z"
    }
   },
   "cell_type": "code",
   "source": [
    "a = Parameter('a')\n",
    "b = Parameter('b')\n",
    "q = QuantumRegister(1)\n",
    "qc = QuantumCircuit(q)\n",
    "qc.h(q[0])\n",
    "qc.rz(a, q[0])\n",
    "qc.rx(b, q[0])\n",
    "\n",
    "display(qc.draw('mpl', style=\"clifford\"))\n",
    "\n",
    "# Instantiate the Hamiltonian observable 2X+Z\n",
    "H = SparsePauliOp.from_list([(\"X\", 2), (\"Z\", 1)])\n",
    "\n",
    "# Parameter list\n",
    "params = [[np.pi / 4, 0]]\n"
   ],
   "id": "180b499fe1a1f916",
   "outputs": [
    {
     "data": {
      "text/plain": [
       "<Figure size 388.934x117.056 with 1 Axes>"
      ],
      "image/png": "[encoded data removed]"
     },
     "metadata": {},
     "output_type": "display_data"
    }
   ],
   "execution_count": 20
  },
  {
   "metadata": {
    "ExecuteTime": {
     "end_time": "2024-08-20T09:45:38.073551Z",
     "start_time": "2024-08-20T09:45:36.929523Z"
    }
   },
   "cell_type": "code",
   "source": [
    "from qiskit.primitives import Estimator\n",
    "from qiskit_algorithms.gradients import ParamShiftEstimatorGradient\n",
    "\n",
    "# Define the estimator\n",
    "estimator = Estimator()\n",
    "# Define the gradient\n",
    "gradient = ParamShiftEstimatorGradient(estimator)\n",
    "\n",
    "# Evaluate the gradient of the circuits using parameter shift gradients\n",
    "pse_grad_result = gradient.run(qc, H, params).result().gradients\n",
    "\n",
    "print(\"State estimator gradient computed with parameter shift\", pse_grad_result)"
   ],
   "id": "4c7d36955a2d8998",
   "outputs": [
    {
     "name": "stdout",
     "output_type": "stream",
     "text": [
      "State estimator gradient computed with parameter shift [array([-1.41421356,  0.70710678])]\n"
     ]
    }
   ],
   "execution_count": 5
  },
  {
   "metadata": {
    "ExecuteTime": {
     "end_time": "2024-08-20T12:06:27.217077Z",
     "start_time": "2024-08-20T12:06:27.153193Z"
    }
   },
   "cell_type": "code",
   "source": [
    "a = Parameter(\"a\")\n",
    "b = Parameter(\"b\")\n",
    "\n",
    "q = QuantumRegister(1)\n",
    "qc_sample = QuantumCircuit(q)\n",
    "qc_sample.h(q)\n",
    "qc_sample.rz(a, q[0])\n",
    "qc_sample.rx(b, q[0])\n",
    "qc_sample.measure_all()  # important for sampler\n",
    "\n",
    "qc_sample.draw(\"mpl\")"
   ],
   "id": "c8c688b5615a8b2c",
   "outputs": [
    {
     "name": "stderr",
     "output_type": "stream",
     "text": [
      "/Users/mac/workspace/quantum-journey/QUANTUM-CLASSICAL-TRANSLATION/venv/lib/python3.9/site-packages/qiskit/visualization/circuit/matplotlib.py:266: FutureWarning: The default matplotlib drawer scheme will be changed to \"iqp\" in a following release. To silence this warning, specify the current default explicitly as style=\"clifford\", or the new default as style=\"iqp\".\n",
      "  self._style, def_font_ratio = load_style(self._style)\n"
     ]
    },
    {
     "data": {
      "text/plain": [
       "<Figure size 580.387x200.667 with 1 Axes>"
      ],
      "image/png": "[encoded data removed]"
     },
     "execution_count": 13,
     "metadata": {},
     "output_type": "execute_result"
    }
   ],
   "execution_count": 13
  },
  {
   "metadata": {
    "ExecuteTime": {
     "end_time": "2024-08-20T12:17:56.162769Z",
     "start_time": "2024-08-20T12:17:56.155608Z"
    }
   },
   "cell_type": "code",
   "source": [
    "from qiskit.primitives import Sampler\n",
    "from qiskit_algorithms.gradients import ParamShiftSamplerGradient\n",
    "\n",
    "param_vals = [[np.pi / 4, np.pi / 2]]\n",
    "sampler = Sampler()\n",
    "gradient = ParamShiftSamplerGradient(sampler)\n",
    "pss_grad_result = gradient.run(qc_sample, param_vals).result().gradients\n",
    "print(\"State sampler gradient computed with parameter shift\", pss_grad_result)"
   ],
   "id": "9e4708be9585c157",
   "outputs": [
    {
     "name": "stdout",
     "output_type": "stream",
     "text": [
      "State sampler gradient computed with parameter shift [[{0: 0.35355339059327373, 1: -0.35355339059327384}, {0: 0.0, 1: 0.0}]]\n"
     ]
    }
   ],
   "execution_count": 18
  },
  {
   "metadata": {
    "ExecuteTime": {
     "end_time": "2024-08-20T12:18:05.442291Z",
     "start_time": "2024-08-20T12:18:05.434154Z"
    }
   },
   "cell_type": "code",
   "source": [
    "from qiskit_algorithms.gradients import LinCombEstimatorGradient\n",
    "\n",
    "# Evaluate the gradient of the circuits using linear combination of unitaries\n",
    "state_grad = LinCombEstimatorGradient(estimator)\n",
    "\n",
    "# Evaluate the gradient\n",
    "lce_grad_result = state_grad.run(qc, H, params).result().gradients\n",
    "print(\"State estimator gradient computed with the linear combination method\", lce_grad_result)"
   ],
   "id": "f0ee85559d615d51",
   "outputs": [
    {
     "name": "stdout",
     "output_type": "stream",
     "text": [
      "State estimator gradient computed with the linear combination method [array([-1.41421356,  0.70710678])]\n"
     ]
    }
   ],
   "execution_count": 21
  },
  {
   "metadata": {
    "ExecuteTime": {
     "end_time": "2024-08-20T12:20:23.162563Z",
     "start_time": "2024-08-20T12:20:23.154875Z"
    }
   },
   "cell_type": "code",
   "source": [
    "from qiskit_algorithms.gradients import FiniteDiffEstimatorGradient\n",
    "\n",
    "state_grad = FiniteDiffEstimatorGradient(estimator, epsilon=0.001)\n",
    "\n",
    "# Evaluate the gradient\n",
    "fde_grad_result = state_grad.run(qc, H, params).result().gradients\n",
    "print(\"State estimator gradient computed with finite difference\", fde_grad_result)"
   ],
   "id": "c06e1f0a952d050e",
   "outputs": [
    {
     "name": "stdout",
     "output_type": "stream",
     "text": [
      "State estimator gradient computed with finite difference [array([-1.41421333,  0.70710666])]\n"
     ]
    }
   ],
   "execution_count": 22
  },
  {
   "metadata": {
    "ExecuteTime": {
     "end_time": "2024-08-21T07:11:13.101477Z",
     "start_time": "2024-08-21T07:11:12.621215Z"
    }
   },
   "cell_type": "code",
   "source": "",
   "id": "e6e1cf797308e0f3",
   "outputs": [
    {
     "name": "stdout",
     "output_type": "stream",
     "text": [
      "      ┌───┐┌───────────────────┐                        \n",
      " q_0: ┤ X ├┤0                  ├────────────────────────\n",
      "      ├───┤│                   │                        \n",
      " q_1: ┤ X ├┤1                  ├────────────────────────\n",
      "      └───┘│                   │                        \n",
      " q_2: ─────┤2                  ├────────────────────────\n",
      "      ┌───┐│                   │                        \n",
      " q_3: ┤ X ├┤3                  ├────────────────────────\n",
      "      ├───┤│                   │                        \n",
      " q_4: ┤ X ├┤4                  ├────────────────────────\n",
      "      ├───┤│                   │                        \n",
      " q_5: ┤ X ├┤5                  ├────────────────────────\n",
      "      └───┘│                   │                        \n",
      " q_6: ─────┤6                  ├────────────────────────\n",
      "      ┌───┐│                   │                        \n",
      " q_7: ┤ X ├┤7                  ├────────────────────────\n",
      "      └───┘│   RGQFTMultiplier │┌─┐                     \n",
      " q_8: ─────┤8                  ├┤M├─────────────────────\n",
      "           │                   │└╥┘┌─┐                  \n",
      " q_9: ─────┤9                  ├─╫─┤M├──────────────────\n",
      "           │                   │ ║ └╥┘┌─┐               \n",
      "q_10: ─────┤10                 ├─╫──╫─┤M├───────────────\n",
      "           │                   │ ║  ║ └╥┘┌─┐            \n",
      "q_11: ─────┤11                 ├─╫──╫──╫─┤M├────────────\n",
      "           │                   │ ║  ║  ║ └╥┘┌─┐         \n",
      "q_12: ─────┤12                 ├─╫──╫──╫──╫─┤M├─────────\n",
      "           │                   │ ║  ║  ║  ║ └╥┘┌─┐      \n",
      "q_13: ─────┤13                 ├─╫──╫──╫──╫──╫─┤M├──────\n",
      "           │                   │ ║  ║  ║  ║  ║ └╥┘┌─┐   \n",
      "q_14: ─────┤14                 ├─╫──╫──╫──╫──╫──╫─┤M├───\n",
      "           │                   │ ║  ║  ║  ║  ║  ║ └╥┘┌─┐\n",
      "q_15: ─────┤15                 ├─╫──╫──╫──╫──╫──╫──╫─┤M├\n",
      "           └───────────────────┘ ║  ║  ║  ║  ║  ║  ║ └╥┘\n",
      " c: 8/═══════════════════════════╩══╩══╩══╩══╩══╩══╩══╩═\n",
      "                                 0  1  2  3  4  5  6  7 \n",
      "sampling results: {121: 0.999999999999998}\n",
      "11 * 11 = 121\n"
     ]
    }
   ],
   "execution_count": 11
  }
 ],
 "metadata": {
  "kernelspec": {
   "display_name": "Python 3",
   "language": "python",
   "name": "python3"
  },
  "language_info": {
   "codemirror_mode": {
    "name": "ipython",
    "version": 2
   },
   "file_extension": ".py",
   "mimetype": "text/x-python",
   "name": "python",
   "nbconvert_exporter": "python",
   "pygments_lexer": "ipython2",
   "version": "2.7.6"
  }
 },
 "nbformat": 4,
 "nbformat_minor": 5
}
