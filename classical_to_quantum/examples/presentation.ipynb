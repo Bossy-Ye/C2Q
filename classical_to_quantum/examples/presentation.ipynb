{
 "cells": [
  {
   "metadata": {},
   "cell_type": "markdown",
   "source": "#### Import necessary libs",
   "id": "8d6ed5947b075e54"
  },
  {
   "cell_type": "code",
   "id": "initial_id",
   "metadata": {
    "collapsed": true,
    "ExecuteTime": {
     "end_time": "2024-08-17T08:21:57.679181Z",
     "start_time": "2024-08-17T08:21:57.676069Z"
    }
   },
   "source": [
    "from applications.graph.graph_problem import GraphProblem\n",
    "from classical_to_quantum.applications.graph.grover_applications.graph_oracle import *\n",
    "from classical_to_quantum.algorithms.grover import GroverWrapper\n",
    "from classical_to_quantum.applications.graph.grover_applications.graph_color import GraphColor\n"
   ],
   "outputs": [],
   "execution_count": 30
  },
  {
   "metadata": {},
   "cell_type": "markdown",
   "source": [
    "\n",
    "### Example: Independent Set"
   ],
   "id": "4b1d2e4f4de1cc75"
  },
  {
   "metadata": {},
   "cell_type": "markdown",
   "source": "",
   "id": "f2ebfcf10900827b"
  },
  {
   "metadata": {
    "ExecuteTime": {
     "end_time": "2024-08-17T08:22:03.883717Z",
     "start_time": "2024-08-17T08:22:03.783860Z"
    }
   },
   "cell_type": "code",
   "source": [
    "graph_problem = GraphProblem(\"/Users/mac/workspace/quantum-journey/QUANTUM-CLASSICAL-TRANSLATION/classical_to_quantum/cases/Gset/G0\")\n",
    "independent_set_cnf = independent_set_to_sat(graph_problem.graph())\n",
    "independent_set_oracle = cnf_to_quantum_oracle(independent_set_cnf)\n",
    "def fun(state):\n",
    "    return True\n",
    "grover = GroverWrapper(oracle=independent_set_oracle,\n",
    "                       iterations=2,\n",
    "                       is_good_state=fun,\n",
    "                       objective_qubits=list(range(graph_problem.num_nodes)))\n",
    "res = grover.run(verbose=True)\n",
    "top_measurements = res.top_measurement\n",
    "print(top_measurements)"
   ],
   "id": "ba62959bb13a294d",
   "outputs": [
    {
     "name": "stdout",
     "output_type": "stream",
     "text": [
      "10\n",
      "     ┌───┐┌────┐┌────┐\n",
      "q_0: ┤ H ├┤0   ├┤0   ├\n",
      "     ├───┤│    ││    │\n",
      "q_1: ┤ H ├┤1   ├┤1   ├\n",
      "     ├───┤│    ││    │\n",
      "q_2: ┤ H ├┤2   ├┤2   ├\n",
      "     ├───┤│    ││    │\n",
      "q_3: ┤ H ├┤3   ├┤3   ├\n",
      "     └───┘│    ││    │\n",
      "q_4: ─────┤4   ├┤4   ├\n",
      "          │  Q ││  Q │\n",
      "q_5: ─────┤5   ├┤5   ├\n",
      "          │    ││    │\n",
      "q_6: ─────┤6   ├┤6   ├\n",
      "          │    ││    │\n",
      "q_7: ─────┤7   ├┤7   ├\n",
      "          │    ││    │\n",
      "q_8: ─────┤8   ├┤8   ├\n",
      "          │    ││    │\n",
      "q_9: ─────┤9   ├┤9   ├\n",
      "          └────┘└────┘\n",
      "c: 4/═════════════════\n",
      "                      \n",
      "{   'assignment': '0000',\n",
      "    'circuit_results': [   {   '0000': 0.1406249999999966,\n",
      "                               '0001': 0.1406249999999965,\n",
      "                               '0010': 0.1406249999999962,\n",
      "                               '0011': 0.0156249999999996,\n",
      "                               '0100': 0.1406249999999961,\n",
      "                               '0101': 0.0156249999999996,\n",
      "                               '0110': 0.0156249999999996,\n",
      "                               '0111': 0.0156249999999996,\n",
      "                               '1000': 0.1406249999999966,\n",
      "                               '1001': 0.1406249999999965,\n",
      "                               '1010': 0.0156249999999995,\n",
      "                               '1011': 0.0156249999999996,\n",
      "                               '1100': 0.0156249999999995,\n",
      "                               '1101': 0.0156249999999996,\n",
      "                               '1110': 0.0156249999999996,\n",
      "                               '1111': 0.0156249999999996}],\n",
      "    'iterations': [1],\n",
      "    'max_probability': 0.1406249999999966,\n",
      "    'oracle_evaluation': True,\n",
      "    'top_measurement': '0000'}\n",
      "0000\n"
     ]
    }
   ],
   "execution_count": 31
  },
  {
   "metadata": {},
   "cell_type": "markdown",
   "source": "### Example: graph coloring",
   "id": "7015cd2742cda678"
  },
  {
   "metadata": {
    "ExecuteTime": {
     "end_time": "2024-08-18T06:42:06.416379Z",
     "start_time": "2024-08-18T06:41:14.722982Z"
    }
   },
   "cell_type": "code",
   "source": [
    "coloring_problem = GraphColor(\"/Users/mac/workspace/quantum-journey/QUANTUM-CLASSICAL-TRANSLATION/classical_to_quantum/cases/Gset/G0\", verbose=True)\n",
    "res = coloring_problem.search()\n",
    "res"
   ],
   "id": "6600d1b71771564a",
   "outputs": [
    {
     "name": "stdout",
     "output_type": "stream",
     "text": [
      "Variable Qubits: [0, 1, 2, 3, 4, 5, 6, 7]\n",
      "Check Qubits: [8, 9, 10, 11, 12]\n",
      "Disagree List: [[[0, 1], [2, 3]], [[0, 1], [4, 5]], [[2, 3], [4, 5]], [[2, 3], [6, 7]], [[4, 5], [6, 7]]]\n",
      "Output Qubit: 13\n",
      "14\n",
      "      ┌───┐┌─────┐\n",
      " q_0: ┤ H ├┤0    ├\n",
      "      ├───┤│     │\n",
      " q_1: ┤ H ├┤1    ├\n",
      "      ├───┤│     │\n",
      " q_2: ┤ H ├┤2    ├\n",
      "      ├───┤│     │\n",
      " q_3: ┤ H ├┤3    ├\n",
      "      ├───┤│     │\n",
      " q_4: ┤ H ├┤4    ├\n",
      "      ├───┤│     │\n",
      " q_5: ┤ H ├┤5    ├\n",
      "      ├───┤│     │\n",
      " q_6: ┤ H ├┤6    ├\n",
      "      ├───┤│   Q │\n",
      " q_7: ┤ H ├┤7    ├\n",
      "      └───┘│     │\n",
      " q_8: ─────┤8    ├\n",
      "           │     │\n",
      " q_9: ─────┤9    ├\n",
      "           │     │\n",
      "q_10: ─────┤10   ├\n",
      "           │     │\n",
      "q_11: ─────┤11   ├\n",
      "           │     │\n",
      "q_12: ─────┤12   ├\n",
      "           │     │\n",
      "q_13: ─────┤13   ├\n",
      "           └─────┘\n",
      " c: 8/════════════\n",
      "                  \n"
     ]
    },
    {
     "data": {
      "text/plain": [
       "<qiskit_algorithms.amplitude_amplifiers.grover.GroverResult at 0x28a359190>"
      ]
     },
     "execution_count": 36,
     "metadata": {},
     "output_type": "execute_result"
    }
   ],
   "execution_count": 36
  },
  {
   "metadata": {},
   "cell_type": "markdown",
   "source": "",
   "id": "a34fcfa5e14fa6dc"
  },
  {
   "metadata": {},
   "cell_type": "code",
   "outputs": [],
   "execution_count": null,
   "source": "",
   "id": "f79e45c0ab5df3a3"
  }
 ],
 "metadata": {
  "kernelspec": {
   "display_name": "Python 3",
   "language": "python",
   "name": "python3"
  },
  "language_info": {
   "codemirror_mode": {
    "name": "ipython",
    "version": 2
   },
   "file_extension": ".py",
   "mimetype": "text/x-python",
   "name": "python",
   "nbconvert_exporter": "python",
   "pygments_lexer": "ipython2",
   "version": "2.7.6"
  }
 },
 "nbformat": 4,
 "nbformat_minor": 5
}
